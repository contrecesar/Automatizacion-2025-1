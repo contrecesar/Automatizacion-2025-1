{
 "cells": [
  {
   "cell_type": "code",
   "execution_count": null,
   "id": "4ab5764f",
   "metadata": {},
   "outputs": [],
   "source": [
    "# 1. Import libraries\n",
    "import pandas as pd\n",
    "import numpy as np\n",
    "import seaborn as sns\n",
    "import matplotlib.pyplot as plt\n",
    "\n",
    "from sklearn.model_selection import train_test_split\n",
    "from sklearn.ensemble import RandomForestClassifier\n",
    "from sklearn.preprocessing import StandardScaler\n",
    "from sklearn.metrics import classification_report, confusion_matrix, accuracy_score, roc_auc_score"
   ]
  },
  {
   "cell_type": "code",
   "execution_count": null,
   "id": "ad2d8e70",
   "metadata": {},
   "outputs": [],
   "source": [
    "# 2. Load dataset\n",
    "df = pd.read_csv(\"RetailX_CustomerData.csv\")\n",
    "df.head()"
   ]
  },
  {
   "cell_type": "code",
   "execution_count": null,
   "id": "edf421a6",
   "metadata": {},
   "outputs": [],
   "source": [
    "# 3. Data overview\n",
    "print(df.info())\n",
    "print(df.describe())"
   ]
  },
  {
   "cell_type": "code",
   "execution_count": null,
   "id": "1444133d",
   "metadata": {},
   "outputs": [],
   "source": [
    "# 4. Check for missing values\n",
    "print(df.isnull().sum())"
   ]
  },
  {
   "cell_type": "code",
   "execution_count": null,
   "id": "622259ce",
   "metadata": {},
   "outputs": [],
   "source": [
    "# 5. Visualization: Spending by churn\n",
    "sns.boxplot(x=\"Churn\", y=\"TotalSpent\", data=df)\n",
    "plt.title(\"Customer Spending by Churn Status\")\n",
    "plt.show()"
   ]
  },
  {
   "cell_type": "code",
   "execution_count": null,
   "id": "34202581",
   "metadata": {},
   "outputs": [],
   "source": [
    "# 6. Correlation heatmap\n",
    "plt.figure(figsize=(10, 6))\n",
    "sns.heatmap(df.drop(columns=[\"CustomerID\"]).corr(), annot=True, cmap=\"coolwarm\")\n",
    "plt.title(\"Feature Correlation\")\n",
    "plt.show()"
   ]
  },
  {
   "cell_type": "code",
   "execution_count": null,
   "id": "7c296c01",
   "metadata": {},
   "outputs": [],
   "source": [
    "# 7. Preprocessing\n",
    "df_encoded = pd.get_dummies(df, columns=[\"Region\", \"ProductCategory\"], drop_first=True)\n",
    "X = df_encoded.drop(columns=[\"CustomerID\", \"Churn\"])\n",
    "y = df_encoded[\"Churn\"]\n",
    "\n",
    "scaler = StandardScaler()\n",
    "X_scaled = scaler.fit_transform(X)"
   ]
  },
  {
   "cell_type": "code",
   "execution_count": null,
   "id": "4cd1c70c",
   "metadata": {},
   "outputs": [],
   "source": [
    "# 8. Train/test split\n",
    "X_train, X_test, y_train, y_test = train_test_split(X_scaled, y, test_size=0.3, random_state=42)"
   ]
  },
  {
   "cell_type": "code",
   "execution_count": null,
   "id": "7fbaf264",
   "metadata": {},
   "outputs": [],
   "source": [
    "# 9. Train Random Forest\n",
    "model = RandomForestClassifier(n_estimators=100, random_state=42)\n",
    "model.fit(X_train, y_train)\n",
    "y_pred = model.predict(X_test)"
   ]
  },
  {
   "cell_type": "code",
   "execution_count": null,
   "id": "755aca54",
   "metadata": {},
   "outputs": [],
   "source": [
    "# 10. Evaluation\n",
    "print(\"Classification Report:\\n\", classification_report(y_test, y_pred))\n",
    "print(\"Accuracy:\", accuracy_score(y_test, y_pred))\n",
    "print(\"ROC AUC:\", roc_auc_score(y_test, y_pred))"
   ]
  },
  {
   "cell_type": "code",
   "execution_count": null,
   "id": "8933da09",
   "metadata": {},
   "outputs": [],
   "source": [
    "# 11. Confusion matrix\n",
    "sns.heatmap(confusion_matrix(y_test, y_pred), annot=True, fmt=\"d\", cmap=\"Blues\")\n",
    "plt.xlabel(\"Predicted\")\n",
    "plt.ylabel(\"Actual\")\n",
    "plt.title(\"Confusion Matrix\")\n",
    "plt.show()"
   ]
  },
  {
   "cell_type": "code",
   "execution_count": null,
   "id": "fb00c8b8",
   "metadata": {},
   "outputs": [],
   "source": [
    "# 12. Feature importance\n",
    "importances = model.feature_importances_\n",
    "feature_names = X.columns\n",
    "\n",
    "feature_importance_df = pd.DataFrame({\n",
    "    'Feature': feature_names,\n",
    "    'Importance': importances\n",
    "}).sort_values(by='Importance', ascending=False)\n"
   ]
  },
  {
   "cell_type": "code",
   "execution_count": null,
   "id": "2337ef4b",
   "metadata": {},
   "outputs": [],
   "source": [
    "# 13. Plot top 10 features\n",
    "sns.barplot(x='Importance', y='Feature', data=feature_importance_df.head(10))\n",
    "plt.title(\"Top 10 Feature Importances\")\n",
    "plt.tight_layout()\n",
    "plt.show()"
   ]
  }
 ],
 "metadata": {
  "language_info": {
   "name": "python"
  }
 },
 "nbformat": 4,
 "nbformat_minor": 5
}
