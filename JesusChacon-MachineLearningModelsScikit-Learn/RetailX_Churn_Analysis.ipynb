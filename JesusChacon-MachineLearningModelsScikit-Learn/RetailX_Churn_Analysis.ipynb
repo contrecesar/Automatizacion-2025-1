{
  "cells": [
    {
      "cell_type": "code",
      "execution_count": 158,
      "id": "4ab5764f",
      "metadata": {
        "id": "4ab5764f"
      },
      "outputs": [],
      "source": [
        "# 1. Import libraries\n",
        "\n",
        "import pandas as pd\n",
        "import numpy as np\n",
        "import seaborn as sns\n",
        "import matplotlib.pyplot as plt\n",
        "\n",
        "from imblearn.over_sampling import SMOTE\n",
        "from sklearn.preprocessing import StandardScaler\n",
        "from sklearn.model_selection import train_test_split\n",
        "from sklearn.metrics import classification_report, confusion_matrix, accuracy_score, roc_auc_score, precision_recall_curve\n",
        "from xgboost import XGBClassifier"
      ]
    },
    {
      "cell_type": "code",
      "execution_count": null,
      "id": "ad2d8e70",
      "metadata": {
        "id": "ad2d8e70"
      },
      "outputs": [],
      "source": [
        "# 2. Download and Load dataset\n",
        "\n",
        "!wget -O RetailX_CustomerData.csv https://raw.githubusercontent.com/contrecesar/Automatizacion-2025-1/main/JesusChacon-MachineLearningModelsScikit-Learn/RetailX_CustomerData.csv\n",
        "\n",
        "df = pd.read_csv(\"RetailX_CustomerData.csv\")"
      ]
    },
    {
      "cell_type": "code",
      "execution_count": null,
      "id": "edf421a6",
      "metadata": {
        "id": "edf421a6"
      },
      "outputs": [],
      "source": [
        "# 3. Data overview\n",
        "\n",
        "print(df.info())\n",
        "print(df['Churn'].value_counts())\n",
        "print(df['Churn'].value_counts(normalize=True))"
      ]
    },
    {
      "cell_type": "code",
      "execution_count": null,
      "id": "1444133d",
      "metadata": {
        "id": "1444133d"
      },
      "outputs": [],
      "source": [
        "# 4. Check missing values\n",
        "\n",
        "print(df.isnull().sum())"
      ]
    },
    {
      "cell_type": "code",
      "execution_count": null,
      "id": "622259ce",
      "metadata": {
        "id": "622259ce"
      },
      "outputs": [],
      "source": [
        "# 5. Visualization: Spending by churn\n",
        "\n",
        "sns.boxplot(x=\"Churn\", y=\"TotalSpent\", data=df)\n",
        "plt.title(\"Customer Spending by Churn Status\")\n",
        "plt.show()\n",
        "\n",
        "sns.histplot(data=df, x='TotalSpent', hue='Churn', kde=True, bins=30)\n",
        "plt.title(\"Distribution of TotalSpent by Churn\")\n",
        "plt.show()\n",
        "\n",
        "print(df.groupby('Churn')['TotalSpent'].describe())"
      ]
    },
    {
      "cell_type": "code",
      "execution_count": null,
      "id": "34202581",
      "metadata": {
        "id": "34202581"
      },
      "outputs": [],
      "source": [
        "# 6. Correlation heatmap\n",
        "\n",
        "plt.figure(figsize=(10, 6))\n",
        "df_corr = pd.get_dummies(df.drop(columns=[\"CustomerID\"]), drop_first=True)\n",
        "sns.heatmap(df_corr.corr(), annot=True, cmap=\"coolwarm\")\n",
        "plt.title(\"Feature Correlation\")\n",
        "plt.show()"
      ]
    },
    {
      "cell_type": "code",
      "execution_count": 164,
      "id": "7c296c01",
      "metadata": {
        "id": "7c296c01"
      },
      "outputs": [],
      "source": [
        "# 7. Preprocessing\n",
        "\n",
        "df_encoded = pd.get_dummies(df, columns=[\"Region\", \"ProductCategory\"], drop_first=True)\n",
        "X = df_encoded.drop(columns=[\"CustomerID\", \"Churn\"])\n",
        "y = df_encoded[\"Churn\"]"
      ]
    },
    {
      "cell_type": "code",
      "execution_count": 165,
      "id": "4cd1c70c",
      "metadata": {
        "id": "4cd1c70c"
      },
      "outputs": [],
      "source": [
        "# 8. Train/test split and scale\n",
        "\n",
        "X_train_raw, X_test_raw, y_train, y_test = train_test_split(\n",
        "    X, y, test_size=0.3, random_state=42, stratify=y\n",
        ")\n",
        "scaler = StandardScaler()\n",
        "X_train = scaler.fit_transform(X_train_raw)\n",
        "X_test = scaler.transform(X_test_raw)\n"
      ]
    },
    {
      "cell_type": "code",
      "execution_count": 166,
      "id": "7fbaf264",
      "metadata": {
        "id": "7fbaf264"
      },
      "outputs": [],
      "source": [
        "# 9. Balance with SMOTE\n",
        "\n",
        "smote = SMOTE(random_state=42)\n",
        "X_train_res, y_train_res = smote.fit_resample(X_train, y_train)"
      ]
    },
    {
      "cell_type": "code",
      "execution_count": null,
      "id": "755aca54",
      "metadata": {
        "id": "755aca54"
      },
      "outputs": [],
      "source": [
        "# 10. Train XGBoost with fixed params\n",
        "\n",
        "xgb = XGBClassifier(\n",
        "    n_estimators=500,\n",
        "    max_depth=6,\n",
        "    learning_rate=0.05,\n",
        "    scale_pos_weight=(y_train_res == 0).sum() / (y_train_res == 1).sum(),\n",
        "    eval_metric='logloss',\n",
        "    random_state=42\n",
        ")\n",
        "xgb.fit(X_train_res, y_train_res)\n",
        "\n",
        "print(\"Modelo Entrenado\")"
      ]
    },
    {
      "cell_type": "code",
      "execution_count": 169,
      "id": "8933da09",
      "metadata": {
        "id": "8933da09"
      },
      "outputs": [],
      "source": [
        "# 11. Predict probabilities\n",
        "\n",
        "y_proba = xgb.predict_proba(X_test)[:, 1]"
      ]
    },
    {
      "cell_type": "code",
      "execution_count": null,
      "id": "fb00c8b8",
      "metadata": {
        "id": "fb00c8b8"
      },
      "outputs": [],
      "source": [
        "# 12. Find best threshold from precision-recall curve\n",
        "\n",
        "precision, recall, thresholds = precision_recall_curve(y_test, y_proba)\n",
        "f1_scores = 2 * (precision * recall) / (precision + recall)\n",
        "best_threshold = thresholds[np.argmax(f1_scores)]\n",
        "print(f\"Best threshold based on F1 score: {best_threshold:.3f}\")\n",
        "\n",
        "y_pred_adj = (y_proba >= best_threshold).astype(int)"
      ]
    },
    {
      "cell_type": "code",
      "execution_count": null,
      "id": "2337ef4b",
      "metadata": {
        "id": "2337ef4b"
      },
      "outputs": [],
      "source": [
        "# 13. Evaluation\n",
        "\n",
        "print(\"Classification Report:\\n\", classification_report(y_test, y_pred_adj))\n",
        "print(\"Accuracy:\", accuracy_score(y_test, y_pred_adj))\n",
        "print(\"ROC AUC:\", roc_auc_score(y_test, y_proba))"
      ]
    },
    {
      "cell_type": "code",
      "source": [
        "# 14. Confusion matrix\n",
        "\n",
        "sns.heatmap(confusion_matrix(y_test, y_pred_adj), annot=True, fmt=\"d\", cmap=\"Blues\")\n",
        "plt.xlabel(\"Predicted\")\n",
        "plt.ylabel(\"Actual\")\n",
        "plt.title(\"Confusion Matrix\")\n",
        "plt.show()"
      ],
      "metadata": {
        "id": "4k-1noCLNHPz"
      },
      "execution_count": null,
      "outputs": [],
      "id": "4k-1noCLNHPz"
    },
    {
      "cell_type": "code",
      "source": [
        "# 15. Feature importance plot\n",
        "\n",
        "importances = xgb.feature_importances_\n",
        "feature_names = X.columns\n",
        "\n",
        "feature_importance_df = pd.DataFrame({\n",
        "    'Feature': feature_names,\n",
        "    'Importance': importances\n",
        "}).sort_values(by='Importance', ascending=False)\n",
        "\n",
        "sns.barplot(x='Importance', y='Feature', data=feature_importance_df.head(10))\n",
        "plt.title(\"Top 10 Feature Importances\")\n",
        "plt.tight_layout()\n",
        "plt.show()"
      ],
      "metadata": {
        "id": "-S5P3AnbOXxb"
      },
      "id": "-S5P3AnbOXxb",
      "execution_count": null,
      "outputs": []
    }
  ],
  "metadata": {
    "colab": {
      "provenance": []
    },
    "kernelspec": {
      "display_name": "Python 3",
      "name": "python3"
    },
    "language_info": {
      "name": "python"
    }
  },
  "nbformat": 4,
  "nbformat_minor": 5
}